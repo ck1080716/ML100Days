{
 "cells": [
  {
   "cell_type": "markdown",
   "metadata": {},
   "source": [
    "# Julia 機器學習：LIBSVM 支撐向量機\n",
    "\n",
    "## 作業 029：\n",
    "\n",
    "請使用 SVM 來建立一個預測模型，來對手寫數字辨識資料集，建立一個分類模型，預測數字為何。\n",
    "\n",
    "本作業需要使用到的套件有 MLDatasets，請在執行以下範例前先安裝。\n",
    "\n",
    "```\n",
    "] add MLDatasets\n",
    "```"
   ]
  },
  {
   "cell_type": "code",
   "execution_count": 1,
   "metadata": {},
   "outputs": [],
   "source": [
    "using Pkg"
   ]
  },
  {
   "cell_type": "code",
   "execution_count": 3,
   "metadata": {},
   "outputs": [
    {
     "name": "stderr",
     "output_type": "stream",
     "text": [
      "\u001b[32m\u001b[1m    Updating\u001b[22m\u001b[39m registry at `C:\\Users\\evanl\\.julia\\registries\\General`\n",
      "\u001b[32m\u001b[1m    Updating\u001b[22m\u001b[39m git-repo `https://github.com/JuliaRegistries/General.git`\n",
      "\u001b[32m\u001b[1m   Resolving\u001b[22m\u001b[39m package versions...\n",
      "\u001b[32m\u001b[1m   Installed\u001b[22m\u001b[39m LIBLINEAR ─────── v0.6.0\n",
      "\u001b[32m\u001b[1m   Installed\u001b[22m\u001b[39m libsvm_jll ────── v3.24.0+1\n",
      "\u001b[32m\u001b[1m   Installed\u001b[22m\u001b[39m LIBSVM ────────── v0.7.0\n",
      "\u001b[32m\u001b[1m   Installed\u001b[22m\u001b[39m ScikitLearnBase ─ v0.5.0\n",
      "\u001b[32m\u001b[1m   Installed\u001b[22m\u001b[39m liblinear_jll ─── v2.30.0+0\n",
      "\u001b[32m\u001b[1m    Updating\u001b[22m\u001b[39m `C:\\Users\\evanl\\.julia\\environments\\v1.6\\Project.toml`\n",
      " \u001b[90m [b1bec4e5] \u001b[39m\u001b[92m+ LIBSVM v0.7.0\u001b[39m\n",
      "\u001b[32m\u001b[1m    Updating\u001b[22m\u001b[39m `C:\\Users\\evanl\\.julia\\environments\\v1.6\\Manifest.toml`\n",
      " \u001b[90m [2d691ee1] \u001b[39m\u001b[92m+ LIBLINEAR v0.6.0\u001b[39m\n",
      " \u001b[90m [b1bec4e5] \u001b[39m\u001b[92m+ LIBSVM v0.7.0\u001b[39m\n",
      " \u001b[90m [6e75b9c4] \u001b[39m\u001b[92m+ ScikitLearnBase v0.5.0\u001b[39m\n",
      " \u001b[90m [275f1f90] \u001b[39m\u001b[92m+ liblinear_jll v2.30.0+0\u001b[39m\n",
      " \u001b[90m [08558c22] \u001b[39m\u001b[92m+ libsvm_jll v3.24.0+1\u001b[39m\n",
      "\u001b[32m\u001b[1mPrecompiling\u001b[22m\u001b[39m project...\n",
      "\u001b[32m  ✓ \u001b[39m\u001b[90mScikitLearnBase\u001b[39m\n",
      "\u001b[32m  ✓ \u001b[39m\u001b[90mliblinear_jll\u001b[39m\n",
      "\u001b[32m  ✓ \u001b[39m\u001b[90mlibsvm_jll\u001b[39m\n",
      "\u001b[32m  ✓ \u001b[39m\u001b[90mLIBLINEAR\u001b[39m\n",
      "\u001b[32m  ✓ \u001b[39mLIBSVM\n",
      "  5 dependencies successfully precompiled in 10 seconds (197 already precompiled)\n"
     ]
    }
   ],
   "source": [
    "Pkg.add(\"LIBSVM\")"
   ]
  },
  {
   "cell_type": "code",
   "execution_count": 4,
   "metadata": {},
   "outputs": [
    {
     "name": "stderr",
     "output_type": "stream",
     "text": [
      "\u001b[32m\u001b[1m   Resolving\u001b[22m\u001b[39m package versions...\n",
      "\u001b[32m\u001b[1m   Installed\u001b[22m\u001b[39m Blosc ─────────── v0.7.0\n",
      "\u001b[32m\u001b[1m   Installed\u001b[22m\u001b[39m URIParser ─────── v0.4.1\n",
      "\u001b[32m\u001b[1m   Installed\u001b[22m\u001b[39m DataDeps ──────── v0.7.7\n",
      "\u001b[32m\u001b[1m   Installed\u001b[22m\u001b[39m Lz4_jll ───────── v1.9.3+0\n",
      "\u001b[32m\u001b[1m   Installed\u001b[22m\u001b[39m HDF5 ──────────── v0.15.6\n",
      "\u001b[32m\u001b[1m   Installed\u001b[22m\u001b[39m HDF5_jll ──────── v1.12.0+1\n",
      "\u001b[32m\u001b[1m   Installed\u001b[22m\u001b[39m BinDeps ───────── v1.0.2\n",
      "\u001b[32m\u001b[1m   Installed\u001b[22m\u001b[39m GZip ──────────── v0.5.1\n",
      "\u001b[32m\u001b[1m   Installed\u001b[22m\u001b[39m Blosc_jll ─────── v1.21.0+0\n",
      "\u001b[32m\u001b[1m   Installed\u001b[22m\u001b[39m MLDatasets ────── v0.5.11\n",
      "\u001b[32m\u001b[1m   Installed\u001b[22m\u001b[39m BufferedStreams ─ v1.0.0\n",
      "\u001b[32m\u001b[1m   Installed\u001b[22m\u001b[39m MAT ───────────── v0.10.1\n",
      "\u001b[32m\u001b[1m    Updating\u001b[22m\u001b[39m `C:\\Users\\evanl\\.julia\\environments\\v1.6\\Project.toml`\n",
      " \u001b[90m [eb30cadb] \u001b[39m\u001b[92m+ MLDatasets v0.5.11\u001b[39m\n",
      "\u001b[32m\u001b[1m    Updating\u001b[22m\u001b[39m `C:\\Users\\evanl\\.julia\\environments\\v1.6\\Manifest.toml`\n",
      " \u001b[90m [9e28174c] \u001b[39m\u001b[92m+ BinDeps v1.0.2\u001b[39m\n",
      " \u001b[90m [b99e7846] \u001b[39m\u001b[92m+ BinaryProvider v0.5.10\u001b[39m\n",
      " \u001b[90m [a74b3585] \u001b[39m\u001b[92m+ Blosc v0.7.0\u001b[39m\n",
      " \u001b[90m [e1450e63] \u001b[39m\u001b[92m+ BufferedStreams v1.0.0\u001b[39m\n",
      " \u001b[90m [124859b0] \u001b[39m\u001b[92m+ DataDeps v0.7.7\u001b[39m\n",
      " \u001b[90m [92fee26a] \u001b[39m\u001b[92m+ GZip v0.5.1\u001b[39m\n",
      " \u001b[90m [f67ccb44] \u001b[39m\u001b[92m+ HDF5 v0.15.6\u001b[39m\n",
      " \u001b[90m [23992714] \u001b[39m\u001b[92m+ MAT v0.10.1\u001b[39m\n",
      " \u001b[90m [eb30cadb] \u001b[39m\u001b[92m+ MLDatasets v0.5.11\u001b[39m\n",
      " \u001b[90m [30578b45] \u001b[39m\u001b[92m+ URIParser v0.4.1\u001b[39m\n",
      " \u001b[90m [0b7ba130] \u001b[39m\u001b[92m+ Blosc_jll v1.21.0+0\u001b[39m\n",
      " \u001b[90m [0234f1f7] \u001b[39m\u001b[92m+ HDF5_jll v1.12.0+1\u001b[39m\n",
      " \u001b[90m [5ced341a] \u001b[39m\u001b[92m+ Lz4_jll v1.9.3+0\u001b[39m\n",
      "\u001b[32m\u001b[1m    Building\u001b[22m\u001b[39m DataDeps → `C:\\Users\\evanl\\.julia\\scratchspaces\\44cfe95a-1eb2-52ea-b672-e2afdf69b78f\\4f0e41ff461d42cfc62ff0de4f1cd44c6e6b3771\\build.log`\n",
      "\u001b[32m\u001b[1m    Building\u001b[22m\u001b[39m HDF5 ────→ `C:\\Users\\evanl\\.julia\\scratchspaces\\44cfe95a-1eb2-52ea-b672-e2afdf69b78f\\83173193dc242ce4b037f0263a7cc45afb5a0b85\\build.log`\n",
      "\u001b[32m\u001b[1mPrecompiling\u001b[22m\u001b[39m project...\n",
      "\u001b[32m  ✓ \u001b[39m\u001b[90mURIParser\u001b[39m\n",
      "\u001b[32m  ✓ \u001b[39m\u001b[90mGZip\u001b[39m\n",
      "\u001b[32m  ✓ \u001b[39m\u001b[90mBufferedStreams\u001b[39m\n",
      "\u001b[32m  ✓ \u001b[39m\u001b[90mLz4_jll\u001b[39m\n",
      "\u001b[32m  ✓ \u001b[39m\u001b[90mHDF5_jll\u001b[39m\n",
      "\u001b[32m  ✓ \u001b[39m\u001b[90mBinDeps\u001b[39m\n",
      "\u001b[32m  ✓ \u001b[39m\u001b[90mDataDeps\u001b[39m\n",
      "\u001b[32m  ✓ \u001b[39m\u001b[90mBlosc_jll\u001b[39m\n",
      "\u001b[32m  ✓ \u001b[39m\u001b[90mBlosc\u001b[39m\n",
      "\u001b[32m  ✓ \u001b[39m\u001b[90mHDF5\u001b[39m\n",
      "\u001b[32m  ✓ \u001b[39m\u001b[90mMAT\u001b[39m\n",
      "\u001b[32m  ✓ \u001b[39mMLDatasets\n",
      "  12 dependencies successfully precompiled in 12 seconds (203 already precompiled)\n"
     ]
    }
   ],
   "source": [
    "Pkg.add(\"MLDatasets\")"
   ]
  },
  {
   "cell_type": "code",
   "execution_count": 5,
   "metadata": {},
   "outputs": [
    {
     "name": "stderr",
     "output_type": "stream",
     "text": [
      "┌ Info: Installing scipy via the Conda scipy package...\n",
      "└ @ PyCall C:\\Users\\evanl\\.julia\\packages\\PyCall\\BD546\\src\\PyCall.jl:711\n",
      "┌ Info: Running `conda install -y scipy` in root environment\n",
      "└ @ Conda C:\\Users\\evanl\\.julia\\packages\\Conda\\sNGum\\src\\Conda.jl:128\n"
     ]
    },
    {
     "name": "stdout",
     "output_type": "stream",
     "text": [
      "Collecting package metadata (current_repodata.json): ...working... done\n",
      "Solving environment: ...working... done\n",
      "\n",
      "## Package Plan ##\n",
      "\n",
      "  environment location: C:\\Users\\evanl\\.julia\\conda\\3\n",
      "\n",
      "  added / updated specs:\n",
      "    - scipy\n",
      "\n",
      "\n",
      "The following packages will be downloaded:\n",
      "\n",
      "    package                    |            build\n",
      "    ---------------------------|-----------------\n",
      "    icc_rt-2019.0.0            |       h0cc432a_1         6.0 MB\n",
      "    scipy-1.7.1                |   py39hbe87c03_2        13.8 MB\n",
      "    ------------------------------------------------------------\n",
      "                                           Total:        19.8 MB\n",
      "\n",
      "The following NEW packages will be INSTALLED:\n",
      "\n",
      "  icc_rt             pkgs/main/win-64::icc_rt-2019.0.0-h0cc432a_1\n",
      "  scipy              pkgs/main/win-64::scipy-1.7.1-py39hbe87c03_2\n",
      "\n",
      "\n",
      "\n",
      "Downloading and Extracting Packages\n",
      "scipy-1.7.1          | 13.8 MB   | ########## | 100% \n",
      "icc_rt-2019.0.0      | 6.0 MB    | ########## | 100% \n",
      "Preparing transaction: ...working... done\n",
      "Verifying transaction: ...working... done\n",
      "Executing transaction: ...working... done\n"
     ]
    }
   ],
   "source": [
    "using LIBSVM, MLDatasets, Statistics"
   ]
  },
  {
   "cell_type": "markdown",
   "metadata": {},
   "source": [
    "## 讀取資料"
   ]
  },
  {
   "cell_type": "markdown",
   "metadata": {},
   "source": [
    "呼叫 MNIST 資料集的過程中，會先去檢查以前是否有下載過，如果是第一次下載，過程中會詢問是否下載資料集，請回答 `y`。"
   ]
  },
  {
   "cell_type": "code",
   "execution_count": 6,
   "metadata": {},
   "outputs": [
    {
     "name": "stdout",
     "output_type": "stream",
     "text": [
      "This program has requested access to the data dependency MNIST.\n",
      "which is not currently installed. It can be installed automatically, and you will not see this message again.\n",
      "\n",
      "Dataset: THE MNIST DATABASE of handwritten digits\n",
      "Authors: Yann LeCun, Corinna Cortes, Christopher J.C. Burges\n",
      "Website: http://yann.lecun.com/exdb/mnist/\n",
      "\n",
      "[LeCun et al., 1998a]\n",
      "    Y. LeCun, L. Bottou, Y. Bengio, and P. Haffner.\n",
      "    \"Gradient-based learning applied to document recognition.\"\n",
      "    Proceedings of the IEEE, 86(11):2278-2324, November 1998\n",
      "\n",
      "The files are available for download at the offical\n",
      "website linked above. Note that using the data\n",
      "responsibly and respecting copyright remains your\n",
      "responsibility. The authors of MNIST aren't really\n",
      "explicit about any terms of use, so please read the\n",
      "website to make sure you want to download the\n",
      "dataset.\n",
      "\n",
      "\n",
      "\n",
      "Do you want to download the dataset from [\"https://ossci-datasets.s3.amazonaws.com/mnist/train-images-idx3-ubyte.gz\", \"https://ossci-datasets.s3.amazonaws.com/mnist/train-labels-idx1-ubyte.gz\", \"https://ossci-datasets.s3.amazonaws.com/mnist/t10k-images-idx3-ubyte.gz\", \"https://ossci-datasets.s3.amazonaws.com/mnist/t10k-labels-idx1-ubyte.gz\"] to \"C:\\Users\\evanl\\.julia\\datadeps\\MNIST\"?\n",
      "[y/n]\n",
      "stdin> y\n"
     ]
    },
    {
     "data": {
      "text/plain": [
       "(FixedPointNumbers.N0f8[0.0N0f8 0.0N0f8 … 0.0N0f8 0.0N0f8; 0.0N0f8 0.0N0f8 … 0.0N0f8 0.0N0f8; … ; 0.0N0f8 0.0N0f8 … 0.0N0f8 0.0N0f8; 0.0N0f8 0.0N0f8 … 0.0N0f8 0.0N0f8]\n",
       "\n",
       "FixedPointNumbers.N0f8[0.0N0f8 0.0N0f8 … 0.0N0f8 0.0N0f8; 0.0N0f8 0.0N0f8 … 0.0N0f8 0.0N0f8; … ; 0.0N0f8 0.0N0f8 … 0.0N0f8 0.0N0f8; 0.0N0f8 0.0N0f8 … 0.0N0f8 0.0N0f8]\n",
       "\n",
       "FixedPointNumbers.N0f8[0.0N0f8 0.0N0f8 … 0.0N0f8 0.0N0f8; 0.0N0f8 0.0N0f8 … 0.0N0f8 0.0N0f8; … ; 0.0N0f8 0.0N0f8 … 0.0N0f8 0.0N0f8; 0.0N0f8 0.0N0f8 … 0.0N0f8 0.0N0f8]\n",
       "\n",
       "...\n",
       "\n",
       "FixedPointNumbers.N0f8[0.0N0f8 0.0N0f8 … 0.0N0f8 0.0N0f8; 0.0N0f8 0.0N0f8 … 0.0N0f8 0.0N0f8; … ; 0.0N0f8 0.0N0f8 … 0.0N0f8 0.0N0f8; 0.0N0f8 0.0N0f8 … 0.0N0f8 0.0N0f8]\n",
       "\n",
       "FixedPointNumbers.N0f8[0.0N0f8 0.0N0f8 … 0.0N0f8 0.0N0f8; 0.0N0f8 0.0N0f8 … 0.0N0f8 0.0N0f8; … ; 0.0N0f8 0.0N0f8 … 0.0N0f8 0.0N0f8; 0.0N0f8 0.0N0f8 … 0.0N0f8 0.0N0f8]\n",
       "\n",
       "FixedPointNumbers.N0f8[0.0N0f8 0.0N0f8 … 0.0N0f8 0.0N0f8; 0.0N0f8 0.0N0f8 … 0.0N0f8 0.0N0f8; … ; 0.0N0f8 0.0N0f8 … 0.0N0f8 0.0N0f8; 0.0N0f8 0.0N0f8 … 0.0N0f8 0.0N0f8], [7, 2, 1, 0, 4, 1, 4, 9, 5, 9  …  2, 3, 9, 0, 1, 2, 2, 0, 8, 9])"
      ]
     },
     "execution_count": 6,
     "metadata": {},
     "output_type": "execute_result"
    }
   ],
   "source": [
    "train_X, train_y = MNIST.traindata(1:10000)\n",
    "test_X,  test_y  = MNIST.testdata(1:1000)"
   ]
  },
  {
   "cell_type": "markdown",
   "metadata": {},
   "source": [
    "## 資料轉換"
   ]
  },
  {
   "cell_type": "code",
   "execution_count": 7,
   "metadata": {},
   "outputs": [
    {
     "data": {
      "text/plain": [
       "10000×784 Array{N0f8,2} with eltype FixedPointNumbers.N0f8:\n",
       " 0.0  0.0  0.0  0.0  0.0  0.0  0.0  0.0  …  0.0  0.0  0.0  0.0  0.0  0.0  0.0\n",
       " 0.0  0.0  0.0  0.0  0.0  0.0  0.0  0.0     0.0  0.0  0.0  0.0  0.0  0.0  0.0\n",
       " 0.0  0.0  0.0  0.0  0.0  0.0  0.0  0.0     0.0  0.0  0.0  0.0  0.0  0.0  0.0\n",
       " 0.0  0.0  0.0  0.0  0.0  0.0  0.0  0.0     0.0  0.0  0.0  0.0  0.0  0.0  0.0\n",
       " 0.0  0.0  0.0  0.0  0.0  0.0  0.0  0.0     0.0  0.0  0.0  0.0  0.0  0.0  0.0\n",
       " 0.0  0.0  0.0  0.0  0.0  0.0  0.0  0.0  …  0.0  0.0  0.0  0.0  0.0  0.0  0.0\n",
       " 0.0  0.0  0.0  0.0  0.0  0.0  0.0  0.0     0.0  0.0  0.0  0.0  0.0  0.0  0.0\n",
       " 0.0  0.0  0.0  0.0  0.0  0.0  0.0  0.0     0.0  0.0  0.0  0.0  0.0  0.0  0.0\n",
       " 0.0  0.0  0.0  0.0  0.0  0.0  0.0  0.0     0.0  0.0  0.0  0.0  0.0  0.0  0.0\n",
       " 0.0  0.0  0.0  0.0  0.0  0.0  0.0  0.0     0.0  0.0  0.0  0.0  0.0  0.0  0.0\n",
       " 0.0  0.0  0.0  0.0  0.0  0.0  0.0  0.0  …  0.0  0.0  0.0  0.0  0.0  0.0  0.0\n",
       " 0.0  0.0  0.0  0.0  0.0  0.0  0.0  0.0     0.0  0.0  0.0  0.0  0.0  0.0  0.0\n",
       " 0.0  0.0  0.0  0.0  0.0  0.0  0.0  0.0     0.0  0.0  0.0  0.0  0.0  0.0  0.0\n",
       " ⋮                        ⋮              ⋱                 ⋮              \n",
       " 0.0  0.0  0.0  0.0  0.0  0.0  0.0  0.0     0.0  0.0  0.0  0.0  0.0  0.0  0.0\n",
       " 0.0  0.0  0.0  0.0  0.0  0.0  0.0  0.0     0.0  0.0  0.0  0.0  0.0  0.0  0.0\n",
       " 0.0  0.0  0.0  0.0  0.0  0.0  0.0  0.0  …  0.0  0.0  0.0  0.0  0.0  0.0  0.0\n",
       " 0.0  0.0  0.0  0.0  0.0  0.0  0.0  0.0     0.0  0.0  0.0  0.0  0.0  0.0  0.0\n",
       " 0.0  0.0  0.0  0.0  0.0  0.0  0.0  0.0     0.0  0.0  0.0  0.0  0.0  0.0  0.0\n",
       " 0.0  0.0  0.0  0.0  0.0  0.0  0.0  0.0     0.0  0.0  0.0  0.0  0.0  0.0  0.0\n",
       " 0.0  0.0  0.0  0.0  0.0  0.0  0.0  0.0     0.0  0.0  0.0  0.0  0.0  0.0  0.0\n",
       " 0.0  0.0  0.0  0.0  0.0  0.0  0.0  0.0  …  0.0  0.0  0.0  0.0  0.0  0.0  0.0\n",
       " 0.0  0.0  0.0  0.0  0.0  0.0  0.0  0.0     0.0  0.0  0.0  0.0  0.0  0.0  0.0\n",
       " 0.0  0.0  0.0  0.0  0.0  0.0  0.0  0.0     0.0  0.0  0.0  0.0  0.0  0.0  0.0\n",
       " 0.0  0.0  0.0  0.0  0.0  0.0  0.0  0.0     0.0  0.0  0.0  0.0  0.0  0.0  0.0\n",
       " 0.0  0.0  0.0  0.0  0.0  0.0  0.0  0.0     0.0  0.0  0.0  0.0  0.0  0.0  0.0"
      ]
     },
     "execution_count": 7,
     "metadata": {},
     "output_type": "execute_result"
    }
   ],
   "source": [
    "train_X = Matrix(reshape(train_X, 28*28, :)')\n",
    "test_X = Matrix(reshape(train_X, 28*28, :)')"
   ]
  },
  {
   "cell_type": "code",
   "execution_count": 8,
   "metadata": {},
   "outputs": [
    {
     "data": {
      "text/plain": [
       "1000-element Vector{String}:\n",
       " \"7\"\n",
       " \"2\"\n",
       " \"1\"\n",
       " \"0\"\n",
       " \"4\"\n",
       " \"1\"\n",
       " \"4\"\n",
       " \"9\"\n",
       " \"5\"\n",
       " \"9\"\n",
       " \"0\"\n",
       " \"6\"\n",
       " \"9\"\n",
       " ⋮\n",
       " \"1\"\n",
       " \"6\"\n",
       " \"2\"\n",
       " \"3\"\n",
       " \"9\"\n",
       " \"0\"\n",
       " \"1\"\n",
       " \"2\"\n",
       " \"2\"\n",
       " \"0\"\n",
       " \"8\"\n",
       " \"9\""
      ]
     },
     "execution_count": 8,
     "metadata": {},
     "output_type": "execute_result"
    }
   ],
   "source": [
    "train_y = [\"$x\" for x in train_y]\n",
    "test_y = [\"$x\" for x in test_y]"
   ]
  },
  {
   "cell_type": "markdown",
   "metadata": {},
   "source": [
    "## 預測"
   ]
  },
  {
   "cell_type": "code",
   "execution_count": 10,
   "metadata": {},
   "outputs": [
    {
     "data": {
      "text/plain": [
       "SVC(LIBSVM.Kernel.RadialBasis, 0.0012755102040816326, nothing, 1.0, 3, 0.0, 0.001, true, false, false, LIBSVM.SVM{String}(SVC, LIBSVM.Kernel.RadialBasis, nothing, 784, 10, [\"5\", \"0\", \"4\", \"1\", \"9\", \"2\", \"3\", \"6\", \"7\", \"8\"], Int32[1, 2, 3, 4, 5, 6, 7, 8, 9, 10], Float64[], Int32[], LIBSVM.SupportVectors{Vector{String}, Matrix{FixedPointNumbers.N0f8}}(5196, Int32[649, 327, 536, 368, 668, 522, 595, 416, 517, 598], [\"5\", \"5\", \"5\", \"5\", \"5\", \"5\", \"5\", \"5\", \"5\", \"5\"  …  \"8\", \"8\", \"8\", \"8\", \"8\", \"8\", \"8\", \"8\", \"8\", \"8\"], FixedPointNumbers.N0f8[0.0N0f8 0.0N0f8 … 0.0N0f8 0.0N0f8; 0.0N0f8 0.0N0f8 … 0.0N0f8 0.0N0f8; … ; 0.0N0f8 0.0N0f8 … 0.0N0f8 0.0N0f8; 0.0N0f8 0.0N0f8 … 0.0N0f8 0.0N0f8], Int32[1, 12, 36, 66, 101, 133, 139, 174, 176, 183  …  9926, 9937, 9938, 9945, 9949, 9953, 9957, 9971, 9983, 9997], LIBSVM.SVMNode[LIBSVM.SVMNode(1, 0.0), LIBSVM.SVMNode(1, 0.0), LIBSVM.SVMNode(1, 0.0), LIBSVM.SVMNode(1, 0.0), LIBSVM.SVMNode(1, 0.0), LIBSVM.SVMNode(1, 0.0), LIBSVM.SVMNode(1, 0.0), LIBSVM.SVMNode(1, 0.0), LIBSVM.SVMNode(1, 0.0), LIBSVM.SVMNode(1, 0.0)  …  LIBSVM.SVMNode(1, 0.0), LIBSVM.SVMNode(1, 0.0), LIBSVM.SVMNode(1, 0.0), LIBSVM.SVMNode(1, 0.0), LIBSVM.SVMNode(1, 0.0), LIBSVM.SVMNode(1, 0.0), LIBSVM.SVMNode(1, 0.0), LIBSVM.SVMNode(1, 0.0), LIBSVM.SVMNode(1, 0.0), LIBSVM.SVMNode(1, 0.0)]), 0.0, [0.0 0.0 … 1.0 0.0; 0.0 0.0 … 0.0 1.0; … ; -0.0 -0.0 … -0.0 -0.0; -0.0 -0.0 … -0.0 -0.0], Float64[], Float64[], [-0.22824513560570694, -0.8368986068412834, -1.1622220524866105, -0.8673260023376893, 0.21943747220376308, -0.3298503371613154, -0.5699379699514623, -0.5323086714596027, -0.7843797821858961, -0.34859621336132457  …  -0.3590618101043141, -0.7330689482475496, -0.6896694013633632, -0.7349715094439786, -0.5106496806863642, -0.4114127518423237, -0.5750126766335187, 0.017161626070966933, 0.28097815377530766, 0.3778254533553624], 3, 0.0012755102040816326, 200.0, 0.001, 1.0, 0.5, 0.1, true, false))"
      ]
     },
     "execution_count": 10,
     "metadata": {},
     "output_type": "execute_result"
    }
   ],
   "source": [
    "model = LIBSVM.fit!(SVC(), train_X, train_y)"
   ]
  },
  {
   "cell_type": "code",
   "execution_count": 17,
   "metadata": {},
   "outputs": [],
   "source": [
    "ŷ = String[]\n",
    "for i = 1:size(test_X, 1)\n",
    "    y_ = LIBSVM.predict(model, Matrix(test_X[i, :]'))\n",
    "    append!(ŷ, y_)\n",
    "end"
   ]
  },
  {
   "cell_type": "markdown",
   "metadata": {},
   "source": [
    "## 評估"
   ]
  },
  {
   "cell_type": "code",
   "execution_count": 28,
   "metadata": {},
   "outputs": [
    {
     "data": {
      "text/plain": [
       "accuracy (generic function with 2 methods)"
      ]
     },
     "execution_count": 28,
     "metadata": {},
     "output_type": "execute_result"
    }
   ],
   "source": [
    "accuracy(ŷ, y) = mean(ŷ .== y)"
   ]
  },
  {
   "cell_type": "code",
   "execution_count": 31,
   "metadata": {},
   "outputs": [
    {
     "ename": "LoadError",
     "evalue": "DimensionMismatch(\"arrays could not be broadcast to a common size; got a dimension with lengths 10000 and 1000\")",
     "output_type": "error",
     "traceback": [
      "DimensionMismatch(\"arrays could not be broadcast to a common size; got a dimension with lengths 10000 and 1000\")",
      "",
      "Stacktrace:",
      "  [1] _bcs1",
      "    @ .\\broadcast.jl:501 [inlined]",
      "  [2] _bcs",
      "    @ .\\broadcast.jl:495 [inlined]",
      "  [3] broadcast_shape",
      "    @ .\\broadcast.jl:489 [inlined]",
      "  [4] combine_axes",
      "    @ .\\broadcast.jl:484 [inlined]",
      "  [5] instantiate",
      "    @ .\\broadcast.jl:266 [inlined]",
      "  [6] materialize",
      "    @ .\\broadcast.jl:883 [inlined]",
      "  [7] accuracy(ŷ::Vector{String}, y::Vector{String})",
      "    @ Main .\\In[28]:1",
      "  [8] top-level scope",
      "    @ In[31]:1",
      "  [9] eval",
      "    @ .\\boot.jl:360 [inlined]",
      " [10] include_string(mapexpr::typeof(REPL.softscope), mod::Module, code::String, filename::String)",
      "    @ Base .\\loading.jl:1116"
     ]
    }
   ],
   "source": [
    "accuracy(ŷ, test_y)"
   ]
  },
  {
   "cell_type": "code",
   "execution_count": null,
   "metadata": {},
   "outputs": [],
   "source": []
  }
 ],
 "metadata": {
  "kernelspec": {
   "display_name": "Julia 1.6.2",
   "language": "julia",
   "name": "julia-1.6"
  },
  "language_info": {
   "file_extension": ".jl",
   "mimetype": "application/julia",
   "name": "julia",
   "version": "1.6.2"
  }
 },
 "nbformat": 4,
 "nbformat_minor": 4
}
